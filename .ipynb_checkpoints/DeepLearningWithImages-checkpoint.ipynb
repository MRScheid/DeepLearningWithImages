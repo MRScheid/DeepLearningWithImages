{
 "cells": [
  {
   "cell_type": "markdown",
   "metadata": {},
   "source": [
    "This notebook walks through building a simple deep learning model (Convolutional Neural Network) that can automatically classify images of honey bees vs images of bumble bees and then loads a pre-trained model for evaluation."
   ]
  },
  {
   "cell_type": "code",
   "execution_count": 9,
   "metadata": {},
   "outputs": [],
   "source": [
    "## Import Python libraries\n",
    "\n",
    "import pickle\n",
    "from pathlib import Path\n",
    "from skimage import io\n",
    "\n",
    "import pandas as pd\n",
    "import numpy as np\n",
    "\n",
    "import matplotlib.pyplot as plt\n",
    "%matplotlib inline\n",
    "\n",
    "from sklearn.preprocessing import StandardScaler\n",
    "from sklearn.model_selection import train_test_split\n",
    "from sklearn.metrics import classification_report\n",
    "\n",
    "import keras\n",
    "\n",
    "from keras.models import Sequential\n",
    "\n",
    "from keras.layers import Dense, Dropout, Flatten, Conv2D, MaxPooling2D"
   ]
  },
  {
   "cell_type": "code",
   "execution_count": 15,
   "metadata": {},
   "outputs": [
    {
     "name": "stdout",
     "output_type": "stream",
     "text": [
      "C:\\Users\\scheid\\Dropbox\\Data Science\\Deep Learning Projects\\Naive Bees_ Deep Learning with Images\\datasets\n",
      "[1. 1. 1. ... 0. 0. 0.]\n"
     ]
    }
   ],
   "source": [
    "## Load image labels\n",
    "\n",
    "# Change directory to point to data. \n",
    "%cd C:\\Users\\scheid\\Dropbox\\Data Science\\Deep Learning Projects\\Naive Bees_ Deep Learning with Images\\datasets\n",
    "\n",
    "# load labels.csv from datasets folder using pandas\n",
    "labels = pd.read_csv('labels.csv', index_col=0)\n",
    "\n",
    "# print value counts for genus\n",
    "print(labels.genus.values)\n",
    "\n",
    "# assign the genus label values to y\n",
    "y = labels.genus.values"
   ]
  },
  {
   "cell_type": "code",
   "execution_count": null,
   "metadata": {},
   "outputs": [],
   "source": [
    "## Scale our data so that it has a mean of 0 and standard deviation of 1.\n",
    "\n",
    "# initialize standard scaler\n",
    "ss = StandardScaler()\n",
    "\n",
    "image_list = []\n",
    "for i in labels.index:\n",
    "    # load image\n",
    "    img = io.imread('{}.jpg'.format(i)).astype(np.float64)\n",
    "    \n",
    "    # for each channel, apply standard scaler's fit_transform method\n",
    "    for channel in range(img.shape[2]):\n",
    "        img[:, :, channel] = ss.fit_transform(img[:, :, channel])\n",
    "        \n",
    "    # append to list of all images\n",
    "    image_list.append(img)\n",
    "    \n",
    "# convert image list to single array\n",
    "X = np.array(image_list)\n",
    "\n",
    "# print shape of X\n",
    "print(np.size(X))"
   ]
  },
  {
   "cell_type": "code",
   "execution_count": null,
   "metadata": {},
   "outputs": [],
   "source": [
    "## Split into train, test and evaluation sets\n",
    "\n",
    "# split out evaluation sets (x_eval and y_eval)\n",
    "x_interim, x_eval, y_interim, y_eval = train_test_split(X,\n",
    "                                           y,\n",
    "                                           test_size=0.2,\n",
    "                                           random_state=52)\n",
    "\n",
    "# split remaining data into train and test sets\n",
    "x_train, x_test, y_train, y_test = train_test_split(x_interim,\n",
    "                                           y_interim,\n",
    "                                           test_size=0.4,\n",
    "                                           random_state=52)\n",
    "\n",
    "\n",
    "# examine number of samples in train, test, and validation sets\n",
    "print('x_train shape:', x_train.shape[:])\n",
    "print(x_train.shape[0], 'train samples')\n",
    "print(x_test.shape[0], 'test samples')\n",
    "print(x_eval.shape[0], 'eval samples')"
   ]
  },
  {
   "cell_type": "code",
   "execution_count": null,
   "metadata": {},
   "outputs": [],
   "source": [
    "## Begin building model\n",
    "\n",
    "# set model constants\n",
    "num_classes = 1\n",
    "\n",
    "# define model as Sequential\n",
    "model = Sequential()\n",
    "\n",
    "# first convolutional layer with 32 filters\n",
    "model.add(Conv2D(32, kernel_size=(3, 3), activation='relu', input_shape=(50, 50, 3)))\n",
    "\n",
    "# add a second 2D convolutional layer with 64 filters\n",
    "model.add(Conv2D(64, kernel_size=(3, 3), activation='relu', input_shape=(50, 50, 3)))\n",
    "    "
   ]
  },
  {
   "cell_type": "code",
   "execution_count": null,
   "metadata": {},
   "outputs": [],
   "source": [
    "## Continue building model\n",
    "\n",
    "# reduce dimensionality through max pooling\n",
    "model.add(MaxPooling2D(pool_size=(2,2)))\n",
    "\n",
    "# third convolutional layer with 64 filters\n",
    "model.add(Conv2D(64, kernel_size=(3, 3), activation='relu'))\n",
    "# add dropout to prevent over fitting\n",
    "model.add(Dropout(0.25))\n",
    "# necessary flatten step preceeding dense layer\n",
    "model.add(Flatten())\n",
    "# fully connected layer\n",
    "model.add(Dense(128, activation='relu'))\n",
    "\n",
    "# add additional dropout to prevent overfitting\n",
    "model.add(Dropout(0.5))\n",
    "\n",
    "# prediction layers\n",
    "model.add(Dense(num_classes, activation='sigmoid', name='preds'))\n",
    "\n",
    "# show model summary\n",
    "model.summary()"
   ]
  },
  {
   "cell_type": "code",
   "execution_count": null,
   "metadata": {},
   "outputs": [],
   "source": [
    "## Compile and train model\n",
    "\n",
    "model.compile(\n",
    "    # set the loss as binary_crossentropy\n",
    "    loss='binary_crossentropy',\n",
    "    # set the optimizer as stochastic gradient descent\n",
    "    optimizer=keras.optimizers.SGD(lr=0.001),\n",
    "    # set the metric as accuracy\n",
    "    metrics=['accuracy']\n",
    ")\n",
    "\n",
    "# mock-train the model using the first ten observations of the train and test sets\n",
    "model.fit(\n",
    "    x_train[:10, :, :, :],\n",
    "    y_train[:10],\n",
    "    epochs=5,\n",
    "    verbose=1,\n",
    "    validation_data=(x_test[:10, :, :, :], y_test[:10])\n",
    ")"
   ]
  },
  {
   "cell_type": "code",
   "execution_count": null,
   "metadata": {},
   "outputs": [],
   "source": [
    "## Load pre-trained and look at training history\n",
    "\n",
    "# Change directory to point to data. \n",
    "%cd C:\\Users\\scheid\\Dropbox\\Data Science\\Deep Learning Projects\\Naive Bees_ Deep Learning with Images\\datasets\n",
    "\n",
    "# load pre-trained model\n",
    "pretrained_cnn = keras.models.load_model('pretrained_model.h5')\n",
    "\n",
    "# evaluate model on test set\n",
    "score = pretrained_cnn.evaluate(x_test, y_test, verbose=0)\n",
    "print('Test loss:', score[0])\n",
    "print('Test accuracy:', score[1])\n",
    "\n",
    "print(\"\")\n",
    "\n",
    "# evaluate model on holdout set\n",
    "eval_score = pretrained_cnn.evaluate(x_eval, y_eval, verbose=0)\n",
    "# print loss score\n",
    "print('Eval loss:', eval_score[0])\n",
    "# print accuracy score\n",
    "print('Eval accuracy:', eval_score[1])"
   ]
  },
  {
   "cell_type": "code",
   "execution_count": 14,
   "metadata": {},
   "outputs": [
    {
     "name": "stdout",
     "output_type": "stream",
     "text": [
      "C:\\Users\\scheid\n"
     ]
    }
   ],
   "source": [
    "## Generate predictions\n",
    "\n",
    "# predicted probabilities for x_eval\n",
    "y_proba = pretrained_cnn.predict(x_eval)\n",
    "\n",
    "print(\"First five probabilities:\")\n",
    "print(y_proba[:5])\n",
    "print(\"\")\n",
    "\n",
    "# predicted classes for x_eval\n",
    "y_pred = pretrained_cnn.predict_classes(x_eval)\n",
    "\n",
    "print(\"First five class predictions:\")\n",
    "print(y_pred[:5])\n",
    "print(\"\")"
   ]
  }
 ],
 "metadata": {
  "kernelspec": {
   "display_name": "Python 3",
   "language": "python",
   "name": "python3"
  },
  "language_info": {
   "codemirror_mode": {
    "name": "ipython",
    "version": 3
   },
   "file_extension": ".py",
   "mimetype": "text/x-python",
   "name": "python",
   "nbconvert_exporter": "python",
   "pygments_lexer": "ipython3",
   "version": "3.7.3"
  }
 },
 "nbformat": 4,
 "nbformat_minor": 2
}
